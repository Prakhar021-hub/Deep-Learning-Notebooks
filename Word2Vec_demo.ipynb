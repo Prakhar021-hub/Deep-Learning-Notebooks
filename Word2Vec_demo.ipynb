{
  "nbformat": 4,
  "nbformat_minor": 0,
  "metadata": {
    "colab": {
      "provenance": [],
      "authorship_tag": "ABX9TyOkgu5HGrqvzmRpHs7jH1d9",
      "include_colab_link": true
    },
    "kernelspec": {
      "name": "python3",
      "display_name": "Python 3"
    },
    "language_info": {
      "name": "python"
    }
  },
  "cells": [
    {
      "cell_type": "markdown",
      "metadata": {
        "id": "view-in-github",
        "colab_type": "text"
      },
      "source": [
        "<a href=\"https://colab.research.google.com/github/Prakhar021-hub/Deep-Learning-Notebooks/blob/main/Word2Vec_demo.ipynb\" target=\"_parent\"><img src=\"https://colab.research.google.com/assets/colab-badge.svg\" alt=\"Open In Colab\"/></a>"
      ]
    },
    {
      "cell_type": "code",
      "source": [
        "!pip install gensim"
      ],
      "metadata": {
        "colab": {
          "base_uri": "https://localhost:8080/",
          "height": 688
        },
        "id": "99vpbCYCYM1_",
        "outputId": "8e8f9cb6-19ea-40d2-c7c2-55a2508b80f8"
      },
      "execution_count": 1,
      "outputs": [
        {
          "output_type": "stream",
          "name": "stdout",
          "text": [
            "Collecting gensim\n",
            "  Downloading gensim-4.3.3-cp312-cp312-manylinux_2_17_x86_64.manylinux2014_x86_64.whl.metadata (8.1 kB)\n",
            "Collecting numpy<2.0,>=1.18.5 (from gensim)\n",
            "  Downloading numpy-1.26.4-cp312-cp312-manylinux_2_17_x86_64.manylinux2014_x86_64.whl.metadata (61 kB)\n",
            "\u001b[2K     \u001b[90m━━━━━━━━━━━━━━━━━━━━━━━━━━━━━━━━━━━━━━━━\u001b[0m \u001b[32m61.0/61.0 kB\u001b[0m \u001b[31m3.1 MB/s\u001b[0m eta \u001b[36m0:00:00\u001b[0m\n",
            "\u001b[?25hCollecting scipy<1.14.0,>=1.7.0 (from gensim)\n",
            "  Downloading scipy-1.13.1-cp312-cp312-manylinux_2_17_x86_64.manylinux2014_x86_64.whl.metadata (60 kB)\n",
            "\u001b[2K     \u001b[90m━━━━━━━━━━━━━━━━━━━━━━━━━━━━━━━━━━━━━━━━\u001b[0m \u001b[32m60.6/60.6 kB\u001b[0m \u001b[31m5.0 MB/s\u001b[0m eta \u001b[36m0:00:00\u001b[0m\n",
            "\u001b[?25hRequirement already satisfied: smart-open>=1.8.1 in /usr/local/lib/python3.12/dist-packages (from gensim) (7.3.1)\n",
            "Requirement already satisfied: wrapt in /usr/local/lib/python3.12/dist-packages (from smart-open>=1.8.1->gensim) (1.17.3)\n",
            "Downloading gensim-4.3.3-cp312-cp312-manylinux_2_17_x86_64.manylinux2014_x86_64.whl (26.6 MB)\n",
            "\u001b[2K   \u001b[90m━━━━━━━━━━━━━━━━━━━━━━━━━━━━━━━━━━━━━━━━\u001b[0m \u001b[32m26.6/26.6 MB\u001b[0m \u001b[31m75.1 MB/s\u001b[0m eta \u001b[36m0:00:00\u001b[0m\n",
            "\u001b[?25hDownloading numpy-1.26.4-cp312-cp312-manylinux_2_17_x86_64.manylinux2014_x86_64.whl (18.0 MB)\n",
            "\u001b[2K   \u001b[90m━━━━━━━━━━━━━━━━━━━━━━━━━━━━━━━━━━━━━━━━\u001b[0m \u001b[32m18.0/18.0 MB\u001b[0m \u001b[31m92.4 MB/s\u001b[0m eta \u001b[36m0:00:00\u001b[0m\n",
            "\u001b[?25hDownloading scipy-1.13.1-cp312-cp312-manylinux_2_17_x86_64.manylinux2014_x86_64.whl (38.2 MB)\n",
            "\u001b[2K   \u001b[90m━━━━━━━━━━━━━━━━━━━━━━━━━━━━━━━━━━━━━━━━\u001b[0m \u001b[32m38.2/38.2 MB\u001b[0m \u001b[31m16.0 MB/s\u001b[0m eta \u001b[36m0:00:00\u001b[0m\n",
            "\u001b[?25hInstalling collected packages: numpy, scipy, gensim\n",
            "  Attempting uninstall: numpy\n",
            "    Found existing installation: numpy 2.0.2\n",
            "    Uninstalling numpy-2.0.2:\n",
            "      Successfully uninstalled numpy-2.0.2\n",
            "  Attempting uninstall: scipy\n",
            "    Found existing installation: scipy 1.16.2\n",
            "    Uninstalling scipy-1.16.2:\n",
            "      Successfully uninstalled scipy-1.16.2\n",
            "\u001b[31mERROR: pip's dependency resolver does not currently take into account all the packages that are installed. This behaviour is the source of the following dependency conflicts.\n",
            "tsfresh 0.21.1 requires scipy>=1.14.0; python_version >= \"3.10\", but you have scipy 1.13.1 which is incompatible.\n",
            "opencv-contrib-python 4.12.0.88 requires numpy<2.3.0,>=2; python_version >= \"3.9\", but you have numpy 1.26.4 which is incompatible.\n",
            "thinc 8.3.6 requires numpy<3.0.0,>=2.0.0, but you have numpy 1.26.4 which is incompatible.\n",
            "opencv-python 4.12.0.88 requires numpy<2.3.0,>=2; python_version >= \"3.9\", but you have numpy 1.26.4 which is incompatible.\n",
            "opencv-python-headless 4.12.0.88 requires numpy<2.3.0,>=2; python_version >= \"3.9\", but you have numpy 1.26.4 which is incompatible.\u001b[0m\u001b[31m\n",
            "\u001b[0mSuccessfully installed gensim-4.3.3 numpy-1.26.4 scipy-1.13.1\n"
          ]
        },
        {
          "output_type": "display_data",
          "data": {
            "application/vnd.colab-display-data+json": {
              "pip_warning": {
                "packages": [
                  "numpy"
                ]
              },
              "id": "88e3cbc5e4e14a4ba1c849cba3bb4af8"
            }
          },
          "metadata": {}
        }
      ]
    },
    {
      "cell_type": "code",
      "source": [
        "import gensim.downloader as api\n",
        "\n",
        "model = api.load(\"glove-wiki-gigaword-300\")\n",
        "\n"
      ],
      "metadata": {
        "colab": {
          "base_uri": "https://localhost:8080/"
        },
        "id": "sz-_GJGAX93M",
        "outputId": "774614af-449f-4a65-fbbe-0a2a1b544221"
      },
      "execution_count": 1,
      "outputs": [
        {
          "output_type": "stream",
          "name": "stdout",
          "text": [
            "[==================================================] 100.0% 376.1/376.1MB downloaded\n"
          ]
        }
      ]
    },
    {
      "cell_type": "code",
      "source": [
        "model['man']"
      ],
      "metadata": {
        "colab": {
          "base_uri": "https://localhost:8080/"
        },
        "id": "ynpo7ig7aiQ6",
        "outputId": "3713b472-0c8d-479c-e3ec-8fa8cac738ad"
      },
      "execution_count": 2,
      "outputs": [
        {
          "output_type": "execute_result",
          "data": {
            "text/plain": [
              "array([-0.29784  , -0.13255  , -0.14505  , -0.22752  , -0.027429 ,\n",
              "        0.11005  , -0.039245 , -0.0089607, -0.18866  , -1.1213   ,\n",
              "        0.34793  , -0.30056  , -0.50103  , -0.031383 , -0.032185 ,\n",
              "        0.018318 , -0.090429 , -0.14427  , -0.14306  , -0.057477 ,\n",
              "       -0.020931 ,  0.56276  , -0.018557 ,  0.15168  , -0.25586  ,\n",
              "       -0.081564 ,  0.2803   , -0.10585  , -0.16777  ,  0.21814  ,\n",
              "       -0.11845  ,  0.56475  , -0.12645  , -0.062461 , -0.68043  ,\n",
              "        0.10507  ,  0.24793  , -0.20249  , -0.30726  ,  0.42815  ,\n",
              "        0.38378  , -0.19371  , -0.075951 , -0.058287 , -0.067195 ,\n",
              "        0.2192   ,  0.56116  , -0.28156  , -0.13705  ,  0.45754  ,\n",
              "       -0.14671  , -0.18562  , -0.074146 ,  0.60737  ,  0.07952  ,\n",
              "        0.41023  ,  0.18377  , -0.08532  ,  0.43795  , -0.34727  ,\n",
              "        0.2077   ,  0.50454  ,  0.40244  ,  0.1095   , -0.48078  ,\n",
              "       -0.22372  , -0.54619  , -0.20782  ,  0.13751  , -0.16206  ,\n",
              "       -0.24835  ,  0.17124  ,  0.037355 ,  0.14547  , -0.056205 ,\n",
              "        0.2644   , -0.38029  ,  0.0029947,  0.051608 ,  0.21807  ,\n",
              "       -0.071087 ,  0.31543  ,  0.24593  ,  0.34444  , -0.36354  ,\n",
              "       -0.12137  , -0.013511 ,  0.049564 ,  0.031386 ,  0.10316  ,\n",
              "       -0.44301  ,  0.11663  , -0.055576 , -0.091434 , -0.070799 ,\n",
              "       -0.017031 ,  0.046024 ,  0.096063 ,  0.10148  , -0.33467  ,\n",
              "       -0.043516 ,  0.38271  ,  0.018411 ,  0.0049479,  0.35587  ,\n",
              "        0.40432  ,  0.4823   ,  0.12416  , -0.051926 , -0.081769 ,\n",
              "       -0.21542  ,  0.71766  , -0.0052553, -0.55428  ,  0.68033  ,\n",
              "        0.20255  , -0.19927  , -0.11563  ,  0.0030103, -0.74399  ,\n",
              "       -0.21086  ,  0.069584 , -0.20315  , -0.17027  , -0.11292  ,\n",
              "       -0.044594 , -0.2145   ,  0.26097  ,  0.36969  , -0.65155  ,\n",
              "        0.048649 ,  0.044304 , -0.26604  ,  0.23976  , -0.38281  ,\n",
              "       -0.02353  , -0.020519 , -0.52202  , -0.30595  ,  0.088525 ,\n",
              "        0.28395  ,  0.15056  ,  0.23202  ,  0.30538  , -0.53674  ,\n",
              "        0.21362  ,  0.10999  ,  0.4685   , -0.60017  , -0.13141  ,\n",
              "        0.18707  ,  0.11636  ,  0.24703  ,  0.17168  ,  0.40658  ,\n",
              "       -0.19039  ,  0.033278 , -0.26374  ,  0.28722  ,  0.27659  ,\n",
              "        0.30153  , -0.12622  ,  0.5225   ,  0.13887  , -0.15012  ,\n",
              "       -0.0038264, -0.074287 ,  0.46348  ,  0.26215  , -0.62671  ,\n",
              "        0.21841  , -0.26531  , -0.75294  , -0.36826  ,  0.072989 ,\n",
              "       -0.071807 ,  0.10612  , -0.087064 , -0.053871 ,  0.22379  ,\n",
              "        0.38538  ,  0.053972 ,  0.21208  ,  0.39662  , -0.38609  ,\n",
              "       -0.53     , -0.34169  ,  0.067624 ,  0.11835  ,  0.60372  ,\n",
              "        0.21744  , -0.12806  ,  0.13802  ,  0.22463  , -0.21566  ,\n",
              "       -0.25167  , -0.44859  , -0.39111  , -0.5259   ,  0.21266  ,\n",
              "        1.9729   ,  0.13851  ,  0.32966  ,  0.047626 , -0.37787  ,\n",
              "       -0.31769  , -0.1283   ,  0.34396  , -0.11061  , -0.23346  ,\n",
              "       -0.45134  ,  0.1605   , -0.32801  ,  0.033373 ,  0.42571  ,\n",
              "        0.42283  , -0.16932  ,  0.14068  ,  0.14087  ,  0.20856  ,\n",
              "       -0.24912  ,  0.38337  ,  0.43722  , -0.090575 ,  0.021208 ,\n",
              "       -0.22334  , -0.42596  , -0.47252  , -0.1995   ,  0.32459  ,\n",
              "        0.39765  , -0.091573 , -0.073528 , -0.20074  ,  0.22083  ,\n",
              "        0.011314 ,  0.11977  , -0.14888  , -0.27152  ,  0.28908  ,\n",
              "        0.20407  ,  0.098377 , -0.1424   , -0.059699 ,  0.032529 ,\n",
              "       -0.1877   ,  0.24643  , -0.1128   ,  0.14666  ,  0.076001 ,\n",
              "        0.31109  , -0.22119  ,  0.033051 ,  0.066731 ,  1.5449   ,\n",
              "       -0.11096  ,  0.26438  ,  0.1791   ,  0.039628 , -0.46497  ,\n",
              "        0.40052  , -0.057004 ,  0.11391  ,  0.42397  , -0.57411  ,\n",
              "        0.17205  ,  0.44401  , -0.030134 , -0.22061  ,  0.47222  ,\n",
              "       -0.12734  , -0.12288  ,  0.33832  ,  0.41698  ,  0.18355  ,\n",
              "        0.093473 , -1.9373   ,  0.053236 , -0.10361  ,  0.056681 ,\n",
              "       -0.12726  , -0.11681  ,  0.55039  ,  0.33644  ,  0.27706  ,\n",
              "        0.71184  , -0.1304   ,  0.26108  , -0.2481   ,  0.0032735,\n",
              "       -0.16505  ,  0.11827  , -0.26322  , -0.10169  ,  0.24275  ,\n",
              "        0.16927  , -0.15809  ,  0.27613  , -0.2832   ,  0.50554  ],\n",
              "      dtype=float32)"
            ]
          },
          "metadata": {},
          "execution_count": 2
        }
      ]
    },
    {
      "cell_type": "code",
      "source": [
        "model.most_similar('king')"
      ],
      "metadata": {
        "colab": {
          "base_uri": "https://localhost:8080/"
        },
        "id": "5ykMxPWYaieP",
        "outputId": "d5b66f63-5534-4591-9746-f1ea5f087926"
      },
      "execution_count": 3,
      "outputs": [
        {
          "output_type": "execute_result",
          "data": {
            "text/plain": [
              "[('queen', 0.6336469054222107),\n",
              " ('prince', 0.6196622848510742),\n",
              " ('monarch', 0.5899620652198792),\n",
              " ('kingdom', 0.5791266560554504),\n",
              " ('throne', 0.5606487989425659),\n",
              " ('ii', 0.5562329292297363),\n",
              " ('iii', 0.5503199100494385),\n",
              " ('crown', 0.5224862694740295),\n",
              " ('reign', 0.5217353701591492),\n",
              " ('kings', 0.5066401958465576)]"
            ]
          },
          "metadata": {},
          "execution_count": 3
        }
      ]
    },
    {
      "cell_type": "code",
      "source": [
        "model.similarity('man','woman')"
      ],
      "metadata": {
        "colab": {
          "base_uri": "https://localhost:8080/"
        },
        "id": "WtwIeDJLainm",
        "outputId": "2b67c37a-0ce4-4430-e4e6-2af3a6ae38f0"
      },
      "execution_count": 4,
      "outputs": [
        {
          "output_type": "execute_result",
          "data": {
            "text/plain": [
              "0.6998663"
            ]
          },
          "metadata": {},
          "execution_count": 4
        }
      ]
    },
    {
      "cell_type": "code",
      "source": [
        "model.doesnt_match(['man','snake','php'])"
      ],
      "metadata": {
        "colab": {
          "base_uri": "https://localhost:8080/",
          "height": 35
        },
        "id": "Oi3h_6LsZT7_",
        "outputId": "3ac1feaf-8a0b-41b9-9c05-7c4e5e6071ec"
      },
      "execution_count": 5,
      "outputs": [
        {
          "output_type": "execute_result",
          "data": {
            "text/plain": [
              "'php'"
            ],
            "application/vnd.google.colaboratory.intrinsic+json": {
              "type": "string"
            }
          },
          "metadata": {},
          "execution_count": 5
        }
      ]
    },
    {
      "cell_type": "code",
      "source": [
        "ran = model[\"cow\"] - model[\"milk\"] + model[\"curd\"]\n",
        "model.most_similar([ran])"
      ],
      "metadata": {
        "colab": {
          "base_uri": "https://localhost:8080/"
        },
        "id": "FQo94wRGcD46",
        "outputId": "e0a8c8db-c292-4f81-973e-37f3d51b00af"
      },
      "execution_count": 6,
      "outputs": [
        {
          "output_type": "execute_result",
          "data": {
            "text/plain": [
              "[('curd', 0.5783530473709106),\n",
              " ('cow', 0.5490744709968567),\n",
              " ('spongiform', 0.49164479970932007),\n",
              " ('bovine', 0.4738062918186188),\n",
              " ('encephalopathy', 0.43633919954299927),\n",
              " ('bse', 0.3672945201396942),\n",
              " ('composted', 0.353390634059906),\n",
              " ('mad', 0.349242240190506),\n",
              " ('clarabelle', 0.34710195660591125),\n",
              " ('holstein', 0.3414739966392517)]"
            ]
          },
          "metadata": {},
          "execution_count": 6
        }
      ]
    }
  ]
}