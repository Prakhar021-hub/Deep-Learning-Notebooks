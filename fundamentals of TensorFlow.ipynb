{
  "nbformat": 4,
  "nbformat_minor": 0,
  "metadata": {
    "colab": {
      "provenance": [],
      "authorship_tag": "ABX9TyPYNuPugc2SCsQ60ca/XXKv",
      "include_colab_link": true
    },
    "kernelspec": {
      "name": "python3",
      "display_name": "Python 3"
    },
    "language_info": {
      "name": "python"
    }
  },
  "cells": [
    {
      "cell_type": "markdown",
      "metadata": {
        "id": "view-in-github",
        "colab_type": "text"
      },
      "source": [
        "<a href=\"https://colab.research.google.com/github/Prakhar021-hub/Deep-Learning-Notebooks/blob/main/fundamentals%20of%20TensorFlow.ipynb\" target=\"_parent\"><img src=\"https://colab.research.google.com/assets/colab-badge.svg\" alt=\"Open In Colab\"/></a>"
      ]
    },
    {
      "cell_type": "code",
      "execution_count": 3,
      "metadata": {
        "id": "9-KbvK_WRRuC"
      },
      "outputs": [],
      "source": [
        "import tensorflow as tf"
      ]
    },
    {
      "cell_type": "code",
      "source": [
        "print(tf.__version__) ## shows the version"
      ],
      "metadata": {
        "colab": {
          "base_uri": "https://localhost:8080/"
        },
        "id": "AOaRItX0RTbi",
        "outputId": "c346f3d9-12a5-4bde-b9ee-ecb321792935"
      },
      "execution_count": 4,
      "outputs": [
        {
          "output_type": "stream",
          "name": "stdout",
          "text": [
            "2.18.0\n"
          ]
        }
      ]
    },
    {
      "cell_type": "code",
      "source": [
        "## ways to create tensors\n",
        "## tf.constant()\n",
        "\n",
        "scalar = tf.constant(4)  ## tensor with 0 dimention\n",
        "print(scalar)\n",
        "print(\"the dimention of scalar is \", scalar.ndim)"
      ],
      "metadata": {
        "colab": {
          "base_uri": "https://localhost:8080/"
        },
        "id": "eLCqidjhRTej",
        "outputId": "9376fc91-8e00-4611-ccca-1c57e1260b72"
      },
      "execution_count": 5,
      "outputs": [
        {
          "output_type": "stream",
          "name": "stdout",
          "text": [
            "tf.Tensor(4, shape=(), dtype=int32)\n",
            "the dimention of scalar is  0\n"
          ]
        }
      ]
    },
    {
      "cell_type": "code",
      "source": [
        "vector = tf.constant([1,3,5])  ## 1 dimention vector\n",
        "print(vector)\n",
        "print(\"the dimention of vector is \",vector.ndim )"
      ],
      "metadata": {
        "colab": {
          "base_uri": "https://localhost:8080/"
        },
        "id": "4785b6BGRThq",
        "outputId": "efcc9731-25c0-4ca4-cc08-a3ed87d723b0"
      },
      "execution_count": 6,
      "outputs": [
        {
          "output_type": "stream",
          "name": "stdout",
          "text": [
            "tf.Tensor([1 3 5], shape=(3,), dtype=int32)\n",
            "the dimention of vector is  1\n"
          ]
        }
      ]
    },
    {
      "cell_type": "code",
      "source": [
        "matrix = tf.constant([[20,50,3], [45,67,23], [45,3,1]])\n",
        "print(matrix)\n",
        "print(\"the dimention is matrix is \", matrix.ndim)"
      ],
      "metadata": {
        "colab": {
          "base_uri": "https://localhost:8080/"
        },
        "id": "pEq8iy6QRTkQ",
        "outputId": "7fd345b5-a483-42fc-d0d0-44146c2a0683"
      },
      "execution_count": 7,
      "outputs": [
        {
          "output_type": "stream",
          "name": "stdout",
          "text": [
            "tf.Tensor(\n",
            "[[20 50  3]\n",
            " [45 67 23]\n",
            " [45  3  1]], shape=(3, 3), dtype=int32)\n",
            "the dimention is matrix is  2\n"
          ]
        }
      ]
    },
    {
      "cell_type": "code",
      "source": [
        " ## by default the tensors uses int32 or float32 bits but we can change it to int64 or float64\n",
        " tf.constant([1,4,7], dtype = 'float64')\n"
      ],
      "metadata": {
        "colab": {
          "base_uri": "https://localhost:8080/"
        },
        "id": "UeXcn2dERTnI",
        "outputId": "efa7fbd4-3693-452a-b82c-2bcc092cd15a"
      },
      "execution_count": 8,
      "outputs": [
        {
          "output_type": "execute_result",
          "data": {
            "text/plain": [
              "<tf.Tensor: shape=(3,), dtype=float64, numpy=array([1., 4., 7.])>"
            ]
          },
          "metadata": {},
          "execution_count": 8
        }
      ]
    },
    {
      "cell_type": "code",
      "source": [
        "## creating a tensor with more than 2 dimention (\"using variable method\")\n",
        "\n",
        "dim = tf.Variable([[[1,2,3],[1,4,6],\n",
        "             [2,4,5], [4,6,8]],\n",
        "             [[3,5,5], [6,7,8],\n",
        "              [90, 5,7], [20,40,50]],\n",
        "             [[2,4,6], [41,45,32],\n",
        "              [3,5,6], [5,6,6]]])\n",
        "print(dim)\n",
        "print(dim.shape.rank)"
      ],
      "metadata": {
        "colab": {
          "base_uri": "https://localhost:8080/"
        },
        "id": "CcIgV8Q_RTpy",
        "outputId": "75243a31-f494-4cab-f599-7fa8de611316"
      },
      "execution_count": 9,
      "outputs": [
        {
          "output_type": "stream",
          "name": "stdout",
          "text": [
            "<tf.Variable 'Variable:0' shape=(3, 4, 3) dtype=int32, numpy=\n",
            "array([[[ 1,  2,  3],\n",
            "        [ 1,  4,  6],\n",
            "        [ 2,  4,  5],\n",
            "        [ 4,  6,  8]],\n",
            "\n",
            "       [[ 3,  5,  5],\n",
            "        [ 6,  7,  8],\n",
            "        [90,  5,  7],\n",
            "        [20, 40, 50]],\n",
            "\n",
            "       [[ 2,  4,  6],\n",
            "        [41, 45, 32],\n",
            "        [ 3,  5,  6],\n",
            "        [ 5,  6,  6]]], dtype=int32)>\n",
            "3\n"
          ]
        }
      ]
    },
    {
      "cell_type": "code",
      "source": [
        "dim[0].assign(7)"
      ],
      "metadata": {
        "colab": {
          "base_uri": "https://localhost:8080/"
        },
        "id": "uS_eAEqkRTsE",
        "outputId": "8fe69453-2a35-4b05-9b40-870d6f9bc1f7"
      },
      "execution_count": 10,
      "outputs": [
        {
          "output_type": "execute_result",
          "data": {
            "text/plain": [
              "<tf.Variable 'UnreadVariable' shape=(3, 4, 3) dtype=int32, numpy=\n",
              "array([[[ 7,  7,  7],\n",
              "        [ 7,  7,  7],\n",
              "        [ 7,  7,  7],\n",
              "        [ 7,  7,  7]],\n",
              "\n",
              "       [[ 3,  5,  5],\n",
              "        [ 6,  7,  8],\n",
              "        [90,  5,  7],\n",
              "        [20, 40, 50]],\n",
              "\n",
              "       [[ 2,  4,  6],\n",
              "        [41, 45, 32],\n",
              "        [ 3,  5,  6],\n",
              "        [ 5,  6,  6]]], dtype=int32)>"
            ]
          },
          "metadata": {},
          "execution_count": 10
        }
      ]
    },
    {
      "cell_type": "code",
      "source": [
        "# Change first row of first slice\n",
        "dim.scatter_nd_update(indices=[[0,2,2]], updates=[40])\n"
      ],
      "metadata": {
        "colab": {
          "base_uri": "https://localhost:8080/"
        },
        "id": "mw55kT93RT2N",
        "outputId": "79c54571-aa5d-45a0-e948-267be97ee2bd"
      },
      "execution_count": 11,
      "outputs": [
        {
          "output_type": "execute_result",
          "data": {
            "text/plain": [
              "<tf.Variable 'UnreadVariable' shape=(3, 4, 3) dtype=int32, numpy=\n",
              "array([[[ 7,  7,  7],\n",
              "        [ 7,  7,  7],\n",
              "        [ 7,  7, 40],\n",
              "        [ 7,  7,  7]],\n",
              "\n",
              "       [[ 3,  5,  5],\n",
              "        [ 6,  7,  8],\n",
              "        [90,  5,  7],\n",
              "        [20, 40, 50]],\n",
              "\n",
              "       [[ 2,  4,  6],\n",
              "        [41, 45, 32],\n",
              "        [ 3,  5,  6],\n",
              "        [ 5,  6,  6]]], dtype=int32)>"
            ]
          },
          "metadata": {},
          "execution_count": 11
        }
      ]
    },
    {
      "cell_type": "code",
      "source": [
        "## generating random data for tensors\n",
        "\n",
        "random1 = tf.random.Generator.from_seed(3)\n",
        "random1 = random1.normal(shape= (2,3))\n",
        "print(random1)\n",
        "random2 = tf.random.Generator.from_non_deterministic_state()## another way to if u dont want to use seed to generate the data\n",
        "random2 = random2.normal(shape = (3,4))\n",
        "print(random2)\n",
        "random3 = tf.random.normal(shape = (3,4)) ## other methods to to create the noraml dist. data without using generator\n",
        "print(random3)\n",
        "random4 = tf.random.uniform(shape = (3,2)) ## \"\"\"\"\"\"\"\"\"\"\n",
        "print(random4)\n"
      ],
      "metadata": {
        "colab": {
          "base_uri": "https://localhost:8080/"
        },
        "id": "Y8n3EPu0RUef",
        "outputId": "6e7a42c9-e6fb-4721-d496-84b1aec3bf2d"
      },
      "execution_count": 12,
      "outputs": [
        {
          "output_type": "stream",
          "name": "stdout",
          "text": [
            "tf.Tensor(\n",
            "[[-0.43640924 -1.9633987  -0.06452483]\n",
            " [-1.056841    1.0019137   0.6735137 ]], shape=(2, 3), dtype=float32)\n",
            "tf.Tensor(\n",
            "[[ 0.9099362   0.4545562   0.79837286  0.43907148]\n",
            " [-0.27823457 -0.4518493  -0.01803906  1.3971953 ]\n",
            " [ 0.5054653   1.6541299   0.20141093  2.9506106 ]], shape=(3, 4), dtype=float32)\n",
            "tf.Tensor(\n",
            "[[ 1.1236992   1.7566245   0.46661422  0.36754668]\n",
            " [ 0.09365119 -0.50233084  0.24886407 -1.794646  ]\n",
            " [-0.85061884 -0.13418937 -0.12262925 -1.0889491 ]], shape=(3, 4), dtype=float32)\n",
            "tf.Tensor(\n",
            "[[0.14278293 0.9344915 ]\n",
            " [0.11386549 0.68738663]\n",
            " [0.01327074 0.69987845]], shape=(3, 2), dtype=float32)\n"
          ]
        }
      ]
    },
    {
      "cell_type": "code",
      "source": [
        "### shuffle the data\n",
        "\n",
        "not_shuffle = tf.constant([[1,2,3],\n",
        "                          [4,5,6]])\n",
        "tf.random.shuffle(not_shuffle)"
      ],
      "metadata": {
        "colab": {
          "base_uri": "https://localhost:8080/"
        },
        "id": "9L0oIbbpRUhM",
        "outputId": "eee7dcaa-b618-4d5a-a811-954325db88f1"
      },
      "execution_count": 13,
      "outputs": [
        {
          "output_type": "execute_result",
          "data": {
            "text/plain": [
              "<tf.Tensor: shape=(2, 3), dtype=int32, numpy=\n",
              "array([[4, 5, 6],\n",
              "       [1, 2, 3]], dtype=int32)>"
            ]
          },
          "metadata": {},
          "execution_count": 13
        }
      ]
    },
    {
      "cell_type": "code",
      "source": [
        "### others ways to create the tensors\n",
        "\n",
        "print(tf.ones(shape =(3,3)))\n",
        "print(tf.zeros(shape =(3,3)))\n"
      ],
      "metadata": {
        "colab": {
          "base_uri": "https://localhost:8080/"
        },
        "id": "RAc_hiDOJ6vn",
        "outputId": "a4ca7830-acf4-4682-d058-2e261174fef8"
      },
      "execution_count": 14,
      "outputs": [
        {
          "output_type": "stream",
          "name": "stdout",
          "text": [
            "tf.Tensor(\n",
            "[[1. 1. 1.]\n",
            " [1. 1. 1.]\n",
            " [1. 1. 1.]], shape=(3, 3), dtype=float32)\n",
            "tf.Tensor(\n",
            "[[0. 0. 0.]\n",
            " [0. 0. 0.]\n",
            " [0. 0. 0.]], shape=(3, 3), dtype=float32)\n"
          ]
        }
      ]
    },
    {
      "cell_type": "code",
      "source": [
        "## creating tensors using numpy\n",
        "\n",
        "import numpy as np\n",
        "numpy_a = np.arange(1,28)\n",
        "\n",
        "ten = tf.constant(numpy_a, shape = [3,3,3])\n",
        "print(ten)"
      ],
      "metadata": {
        "colab": {
          "base_uri": "https://localhost:8080/"
        },
        "id": "6OtAR_BBKxhn",
        "outputId": "1229be99-99cd-4656-c0f1-7b7a8c3079f7"
      },
      "execution_count": 15,
      "outputs": [
        {
          "output_type": "stream",
          "name": "stdout",
          "text": [
            "tf.Tensor(\n",
            "[[[ 1  2  3]\n",
            "  [ 4  5  6]\n",
            "  [ 7  8  9]]\n",
            "\n",
            " [[10 11 12]\n",
            "  [13 14 15]\n",
            "  [16 17 18]]\n",
            "\n",
            " [[19 20 21]\n",
            "  [22 23 24]\n",
            "  [25 26 27]]], shape=(3, 3, 3), dtype=int64)\n"
          ]
        }
      ]
    },
    {
      "cell_type": "code",
      "source": [
        "## creating a rank 4 tensor\n",
        "np_4 = np.arange(1,121)\n",
        "tensor_4 = tf.constant(np_4, shape = [2,3,4,5])\n",
        "print(tensor_4)"
      ],
      "metadata": {
        "colab": {
          "base_uri": "https://localhost:8080/"
        },
        "id": "han5BShJLgLG",
        "outputId": "aacade73-7413-44fe-a8c4-8c8880e4a1e7"
      },
      "execution_count": 16,
      "outputs": [
        {
          "output_type": "stream",
          "name": "stdout",
          "text": [
            "tf.Tensor(\n",
            "[[[[  1   2   3   4   5]\n",
            "   [  6   7   8   9  10]\n",
            "   [ 11  12  13  14  15]\n",
            "   [ 16  17  18  19  20]]\n",
            "\n",
            "  [[ 21  22  23  24  25]\n",
            "   [ 26  27  28  29  30]\n",
            "   [ 31  32  33  34  35]\n",
            "   [ 36  37  38  39  40]]\n",
            "\n",
            "  [[ 41  42  43  44  45]\n",
            "   [ 46  47  48  49  50]\n",
            "   [ 51  52  53  54  55]\n",
            "   [ 56  57  58  59  60]]]\n",
            "\n",
            "\n",
            " [[[ 61  62  63  64  65]\n",
            "   [ 66  67  68  69  70]\n",
            "   [ 71  72  73  74  75]\n",
            "   [ 76  77  78  79  80]]\n",
            "\n",
            "  [[ 81  82  83  84  85]\n",
            "   [ 86  87  88  89  90]\n",
            "   [ 91  92  93  94  95]\n",
            "   [ 96  97  98  99 100]]\n",
            "\n",
            "  [[101 102 103 104 105]\n",
            "   [106 107 108 109 110]\n",
            "   [111 112 113 114 115]\n",
            "   [116 117 118 119 120]]]], shape=(2, 3, 4, 5), dtype=int64)\n"
          ]
        }
      ]
    },
    {
      "cell_type": "code",
      "source": [
        "## we can perform indexing on this tensor\n",
        "\n",
        "tensor_4[:2,:2,:2,:3]"
      ],
      "metadata": {
        "colab": {
          "base_uri": "https://localhost:8080/"
        },
        "id": "of7yuAgiNRgo",
        "outputId": "ca61fcbf-1ef8-4827-9a2b-e527bda76504"
      },
      "execution_count": 17,
      "outputs": [
        {
          "output_type": "execute_result",
          "data": {
            "text/plain": [
              "<tf.Tensor: shape=(2, 2, 2, 3), dtype=int64, numpy=\n",
              "array([[[[ 1,  2,  3],\n",
              "         [ 6,  7,  8]],\n",
              "\n",
              "        [[21, 22, 23],\n",
              "         [26, 27, 28]]],\n",
              "\n",
              "\n",
              "       [[[61, 62, 63],\n",
              "         [66, 67, 68]],\n",
              "\n",
              "        [[81, 82, 83],\n",
              "         [86, 87, 88]]]])>"
            ]
          },
          "metadata": {},
          "execution_count": 17
        }
      ]
    },
    {
      "cell_type": "code",
      "source": [
        "## extract 43 ,44, 48,49\n",
        "\n",
        "tensor_4[0,2,0:2, 2:4 ]"
      ],
      "metadata": {
        "colab": {
          "base_uri": "https://localhost:8080/"
        },
        "id": "Ij7qbaRPNoZ5",
        "outputId": "7d7f1b70-3649-405d-a3fe-f901cb57a5c0"
      },
      "execution_count": 18,
      "outputs": [
        {
          "output_type": "execute_result",
          "data": {
            "text/plain": [
              "<tf.Tensor: shape=(2, 2), dtype=int64, numpy=\n",
              "array([[43, 44],\n",
              "       [48, 49]])>"
            ]
          },
          "metadata": {},
          "execution_count": 18
        }
      ]
    },
    {
      "cell_type": "code",
      "source": [
        "tensor_4[:1, :1, :1, :]"
      ],
      "metadata": {
        "colab": {
          "base_uri": "https://localhost:8080/"
        },
        "id": "T8aZiaqUTyi7",
        "outputId": "6f287f49-69b3-4b99-d439-a9e306038150"
      },
      "execution_count": 19,
      "outputs": [
        {
          "output_type": "execute_result",
          "data": {
            "text/plain": [
              "<tf.Tensor: shape=(1, 1, 1, 5), dtype=int64, numpy=array([[[[1, 2, 3, 4, 5]]]])>"
            ]
          },
          "metadata": {},
          "execution_count": 19
        }
      ]
    },
    {
      "cell_type": "code",
      "source": [
        "### Matrix Multification"
      ],
      "metadata": {
        "id": "K7vXAap4UGD5"
      },
      "execution_count": 20,
      "outputs": []
    },
    {
      "cell_type": "code",
      "source": [
        "X = tf.constant([[1,2,3],\n",
        "                 [2,3,4]])\n",
        "\n",
        "Y = tf.constant([[1,2],\n",
        "                [2,4],\n",
        "                [4,5]])\n",
        "\n",
        "Z = tf.constant([[4,6,8],\n",
        "                [5,2,6]])"
      ],
      "metadata": {
        "id": "WwhBU4xZnoFT"
      },
      "execution_count": 23,
      "outputs": []
    },
    {
      "cell_type": "code",
      "source": [
        "X @ Y"
      ],
      "metadata": {
        "colab": {
          "base_uri": "https://localhost:8080/"
        },
        "id": "hS3hp-kHoEKf",
        "outputId": "4e32bf9b-10d2-4ba9-c329-95c9a165e149"
      },
      "execution_count": 22,
      "outputs": [
        {
          "output_type": "execute_result",
          "data": {
            "text/plain": [
              "<tf.Tensor: shape=(2, 2), dtype=int32, numpy=\n",
              "array([[17, 25],\n",
              "       [24, 36]], dtype=int32)>"
            ]
          },
          "metadata": {},
          "execution_count": 22
        }
      ]
    },
    {
      "cell_type": "code",
      "source": [
        "X @ Z ## not possible becoz of matrix properties"
      ],
      "metadata": {
        "colab": {
          "base_uri": "https://localhost:8080/",
          "height": 304
        },
        "id": "-tJStmR5oJyI",
        "outputId": "0db80f49-a4b6-4d95-d23c-b38abb131c59"
      },
      "execution_count": 25,
      "outputs": [
        {
          "output_type": "error",
          "ename": "InvalidArgumentError",
          "evalue": "{{function_node __wrapped__MatMul_device_/job:localhost/replica:0/task:0/device:CPU:0}} Matrix size-incompatible: In[0]: [2,3], In[1]: [2,3] [Op:MatMul] name: ",
          "traceback": [
            "\u001b[0;31m---------------------------------------------------------------------------\u001b[0m",
            "\u001b[0;31mInvalidArgumentError\u001b[0m                      Traceback (most recent call last)",
            "\u001b[0;32m/tmp/ipython-input-25-4198184326.py\u001b[0m in \u001b[0;36m<cell line: 0>\u001b[0;34m()\u001b[0m\n\u001b[0;32m----> 1\u001b[0;31m \u001b[0mX\u001b[0m \u001b[0;34m@\u001b[0m \u001b[0mZ\u001b[0m \u001b[0;31m## not possible becoz of matrix properties\u001b[0m\u001b[0;34m\u001b[0m\u001b[0;34m\u001b[0m\u001b[0m\n\u001b[0m",
            "\u001b[0;32m/usr/local/lib/python3.11/dist-packages/tensorflow/python/util/traceback_utils.py\u001b[0m in \u001b[0;36merror_handler\u001b[0;34m(*args, **kwargs)\u001b[0m\n\u001b[1;32m    151\u001b[0m     \u001b[0;32mexcept\u001b[0m \u001b[0mException\u001b[0m \u001b[0;32mas\u001b[0m \u001b[0me\u001b[0m\u001b[0;34m:\u001b[0m\u001b[0;34m\u001b[0m\u001b[0;34m\u001b[0m\u001b[0m\n\u001b[1;32m    152\u001b[0m       \u001b[0mfiltered_tb\u001b[0m \u001b[0;34m=\u001b[0m \u001b[0m_process_traceback_frames\u001b[0m\u001b[0;34m(\u001b[0m\u001b[0me\u001b[0m\u001b[0;34m.\u001b[0m\u001b[0m__traceback__\u001b[0m\u001b[0;34m)\u001b[0m\u001b[0;34m\u001b[0m\u001b[0;34m\u001b[0m\u001b[0m\n\u001b[0;32m--> 153\u001b[0;31m       \u001b[0;32mraise\u001b[0m \u001b[0me\u001b[0m\u001b[0;34m.\u001b[0m\u001b[0mwith_traceback\u001b[0m\u001b[0;34m(\u001b[0m\u001b[0mfiltered_tb\u001b[0m\u001b[0;34m)\u001b[0m \u001b[0;32mfrom\u001b[0m \u001b[0;32mNone\u001b[0m\u001b[0;34m\u001b[0m\u001b[0;34m\u001b[0m\u001b[0m\n\u001b[0m\u001b[1;32m    154\u001b[0m     \u001b[0;32mfinally\u001b[0m\u001b[0;34m:\u001b[0m\u001b[0;34m\u001b[0m\u001b[0;34m\u001b[0m\u001b[0m\n\u001b[1;32m    155\u001b[0m       \u001b[0;32mdel\u001b[0m \u001b[0mfiltered_tb\u001b[0m\u001b[0;34m\u001b[0m\u001b[0;34m\u001b[0m\u001b[0m\n",
            "\u001b[0;32m/usr/local/lib/python3.11/dist-packages/tensorflow/python/framework/ops.py\u001b[0m in \u001b[0;36mraise_from_not_ok_status\u001b[0;34m(e, name)\u001b[0m\n\u001b[1;32m   6000\u001b[0m \u001b[0;32mdef\u001b[0m \u001b[0mraise_from_not_ok_status\u001b[0m\u001b[0;34m(\u001b[0m\u001b[0me\u001b[0m\u001b[0;34m,\u001b[0m \u001b[0mname\u001b[0m\u001b[0;34m)\u001b[0m \u001b[0;34m->\u001b[0m \u001b[0mNoReturn\u001b[0m\u001b[0;34m:\u001b[0m\u001b[0;34m\u001b[0m\u001b[0;34m\u001b[0m\u001b[0m\n\u001b[1;32m   6001\u001b[0m   \u001b[0me\u001b[0m\u001b[0;34m.\u001b[0m\u001b[0mmessage\u001b[0m \u001b[0;34m+=\u001b[0m \u001b[0;34m(\u001b[0m\u001b[0;34m\" name: \"\u001b[0m \u001b[0;34m+\u001b[0m \u001b[0mstr\u001b[0m\u001b[0;34m(\u001b[0m\u001b[0mname\u001b[0m \u001b[0;32mif\u001b[0m \u001b[0mname\u001b[0m \u001b[0;32mis\u001b[0m \u001b[0;32mnot\u001b[0m \u001b[0;32mNone\u001b[0m \u001b[0;32melse\u001b[0m \u001b[0;34m\"\"\u001b[0m\u001b[0;34m)\u001b[0m\u001b[0;34m)\u001b[0m\u001b[0;34m\u001b[0m\u001b[0;34m\u001b[0m\u001b[0m\n\u001b[0;32m-> 6002\u001b[0;31m   \u001b[0;32mraise\u001b[0m \u001b[0mcore\u001b[0m\u001b[0;34m.\u001b[0m\u001b[0m_status_to_exception\u001b[0m\u001b[0;34m(\u001b[0m\u001b[0me\u001b[0m\u001b[0;34m)\u001b[0m \u001b[0;32mfrom\u001b[0m \u001b[0;32mNone\u001b[0m  \u001b[0;31m# pylint: disable=protected-access\u001b[0m\u001b[0;34m\u001b[0m\u001b[0;34m\u001b[0m\u001b[0m\n\u001b[0m\u001b[1;32m   6003\u001b[0m \u001b[0;34m\u001b[0m\u001b[0m\n\u001b[1;32m   6004\u001b[0m \u001b[0;34m\u001b[0m\u001b[0m\n",
            "\u001b[0;31mInvalidArgumentError\u001b[0m: {{function_node __wrapped__MatMul_device_/job:localhost/replica:0/task:0/device:CPU:0}} Matrix size-incompatible: In[0]: [2,3], In[1]: [2,3] [Op:MatMul] name: "
          ]
        }
      ]
    },
    {
      "cell_type": "code",
      "source": [
        "## we need to reshape or transpose either of the one matrix\n",
        "\n",
        "## reshape\n",
        "\n",
        "X @ tf.reshape(Z, shape= (3,2))"
      ],
      "metadata": {
        "colab": {
          "base_uri": "https://localhost:8080/"
        },
        "id": "yuvCrN_Ooe5s",
        "outputId": "2436b6ee-507a-4a04-a073-030d9715f9ef"
      },
      "execution_count": 26,
      "outputs": [
        {
          "output_type": "execute_result",
          "data": {
            "text/plain": [
              "<tf.Tensor: shape=(2, 2), dtype=int32, numpy=\n",
              "array([[26, 34],\n",
              "       [40, 51]], dtype=int32)>"
            ]
          },
          "metadata": {},
          "execution_count": 26
        }
      ]
    },
    {
      "cell_type": "code",
      "source": [
        "## transpose\n",
        "\n",
        "Z @ tf.transpose(X)"
      ],
      "metadata": {
        "colab": {
          "base_uri": "https://localhost:8080/"
        },
        "id": "ZqXH4nA9o_73",
        "outputId": "c129ee88-c730-48e1-877d-49bd178f729a"
      },
      "execution_count": 27,
      "outputs": [
        {
          "output_type": "execute_result",
          "data": {
            "text/plain": [
              "<tf.Tensor: shape=(2, 2), dtype=int32, numpy=\n",
              "array([[40, 58],\n",
              "       [27, 40]], dtype=int32)>"
            ]
          },
          "metadata": {},
          "execution_count": 27
        }
      ]
    },
    {
      "cell_type": "code",
      "source": [
        "## we can also use the function matmul() for multiplication\n",
        "\n",
        "tf.matmul(X , tf.transpose(Z))"
      ],
      "metadata": {
        "colab": {
          "base_uri": "https://localhost:8080/"
        },
        "id": "pV29RjBtpJKJ",
        "outputId": "eea3bc63-9d70-484f-f8f2-59c927ce9284"
      },
      "execution_count": 28,
      "outputs": [
        {
          "output_type": "execute_result",
          "data": {
            "text/plain": [
              "<tf.Tensor: shape=(2, 2), dtype=int32, numpy=\n",
              "array([[40, 27],\n",
              "       [58, 40]], dtype=int32)>"
            ]
          },
          "metadata": {},
          "execution_count": 28
        }
      ]
    },
    {
      "cell_type": "code",
      "source": [
        "## or in a way\n",
        "\n",
        "tf.matmul(X,Z, transpose_a=True, transpose_b=False)"
      ],
      "metadata": {
        "colab": {
          "base_uri": "https://localhost:8080/"
        },
        "id": "6OxtrjEUpcuF",
        "outputId": "d1df564f-d81a-49c7-909e-7cb07ea05198"
      },
      "execution_count": 29,
      "outputs": [
        {
          "output_type": "execute_result",
          "data": {
            "text/plain": [
              "<tf.Tensor: shape=(3, 3), dtype=int32, numpy=\n",
              "array([[14, 10, 20],\n",
              "       [23, 18, 34],\n",
              "       [32, 26, 48]], dtype=int32)>"
            ]
          },
          "metadata": {},
          "execution_count": 29
        }
      ]
    },
    {
      "cell_type": "code",
      "source": [
        "## rev and transpose gives different result\n",
        "rev = tf.constant([[2,3,4],[3, 4, 6]])\n",
        "rev"
      ],
      "metadata": {
        "colab": {
          "base_uri": "https://localhost:8080/"
        },
        "id": "IAzJMy4Fpqb_",
        "outputId": "4b6f3f10-2cbc-4d83-91ba-1978170ed159"
      },
      "execution_count": 36,
      "outputs": [
        {
          "output_type": "execute_result",
          "data": {
            "text/plain": [
              "<tf.Tensor: shape=(2, 3), dtype=int32, numpy=\n",
              "array([[2, 3, 4],\n",
              "       [3, 4, 6]], dtype=int32)>"
            ]
          },
          "metadata": {},
          "execution_count": 36
        }
      ]
    },
    {
      "cell_type": "code",
      "source": [
        "tf.reshape(rev, shape = (3,2))"
      ],
      "metadata": {
        "colab": {
          "base_uri": "https://localhost:8080/"
        },
        "id": "vhDZldCa97es",
        "outputId": "25f2ec5a-2e8c-4278-ff4f-4c3ef5df4f88"
      },
      "execution_count": 33,
      "outputs": [
        {
          "output_type": "execute_result",
          "data": {
            "text/plain": [
              "<tf.Tensor: shape=(3, 2), dtype=int32, numpy=\n",
              "array([[2, 3],\n",
              "       [4, 3],\n",
              "       [4, 6]], dtype=int32)>"
            ]
          },
          "metadata": {},
          "execution_count": 33
        }
      ]
    },
    {
      "cell_type": "code",
      "source": [
        "tf.transpose(rev)"
      ],
      "metadata": {
        "colab": {
          "base_uri": "https://localhost:8080/"
        },
        "id": "ijDdLXwr5_0-",
        "outputId": "b2abfc7f-aecb-46b0-854f-cc80e2b54345"
      },
      "execution_count": 35,
      "outputs": [
        {
          "output_type": "execute_result",
          "data": {
            "text/plain": [
              "<tf.Tensor: shape=(3, 2), dtype=int32, numpy=\n",
              "array([[2, 3],\n",
              "       [3, 4],\n",
              "       [4, 6]], dtype=int32)>"
            ]
          },
          "metadata": {},
          "execution_count": 35
        }
      ]
    },
    {
      "cell_type": "code",
      "source": [
        "## performing aggrigate functions\n",
        "\n",
        "tens = tf.constant(np.random.randint(low = 0, high = 100, size=50))\n",
        "tens"
      ],
      "metadata": {
        "colab": {
          "base_uri": "https://localhost:8080/"
        },
        "id": "pJEN1txs6AEW",
        "outputId": "b0ebae3a-3040-4583-80a3-3e453a33bf3f"
      },
      "execution_count": 37,
      "outputs": [
        {
          "output_type": "execute_result",
          "data": {
            "text/plain": [
              "<tf.Tensor: shape=(50,), dtype=int64, numpy=\n",
              "array([38, 69, 42,  2, 58, 94, 45, 92, 29, 79, 57, 70,  1, 39, 94, 97, 13,\n",
              "       79, 41,  6, 92, 98, 59, 23, 58, 47, 39, 53, 77, 20, 76, 88, 73, 46,\n",
              "       83, 20, 24, 43, 45, 48, 38, 29,  5, 26,  7, 49, 11, 38, 13, 16])>"
            ]
          },
          "metadata": {},
          "execution_count": 37
        }
      ]
    },
    {
      "cell_type": "code",
      "source": [
        "print(\"maximum\",tf.reduce_max(tens))\n",
        "print(\"minimum\",tf.reduce_min(tens))\n",
        "print(\"mean\" ,tf.reduce_mean(tens))\n",
        "print(\"sum\", tf.reduce_sum(tens))"
      ],
      "metadata": {
        "colab": {
          "base_uri": "https://localhost:8080/"
        },
        "id": "2L364Ma8NvpK",
        "outputId": "5f4dd0b3-ff1b-4709-ef98-9b4ac8ef4a6a"
      },
      "execution_count": 39,
      "outputs": [
        {
          "output_type": "stream",
          "name": "stdout",
          "text": [
            "maximum tf.Tensor(98, shape=(), dtype=int64)\n",
            "minimum tf.Tensor(1, shape=(), dtype=int64)\n",
            "mean tf.Tensor(47, shape=(), dtype=int64)\n",
            "sum tf.Tensor(2389, shape=(), dtype=int64)\n"
          ]
        }
      ]
    },
    {
      "cell_type": "code",
      "source": [
        "## getting the index oof thr maximum and minimum values\n",
        "\n",
        "print(\"the index of the smallest element is : \", tf.argmin(tens))\n",
        "print(\"the index of the greatest element is : \", tf.argmax(tens))\n"
      ],
      "metadata": {
        "colab": {
          "base_uri": "https://localhost:8080/"
        },
        "id": "QQwIVVrq6AMH",
        "outputId": "57a178f5-1070-4690-c38f-d75718a57297"
      },
      "execution_count": 41,
      "outputs": [
        {
          "output_type": "stream",
          "name": "stdout",
          "text": [
            "the index of the smallest element is :  tf.Tensor(12, shape=(), dtype=int64)\n",
            "the index of the greatest element is :  tf.Tensor(21, shape=(), dtype=int64)\n"
          ]
        }
      ]
    },
    {
      "cell_type": "code",
      "source": [],
      "metadata": {
        "id": "fk4UVbHE6AR8"
      },
      "execution_count": null,
      "outputs": []
    },
    {
      "cell_type": "code",
      "source": [],
      "metadata": {
        "id": "i11e6qa26AXK"
      },
      "execution_count": null,
      "outputs": []
    },
    {
      "cell_type": "code",
      "source": [],
      "metadata": {
        "id": "owSAcJIx6AdR"
      },
      "execution_count": null,
      "outputs": []
    }
  ]
}